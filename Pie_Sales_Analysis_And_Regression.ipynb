{
  "nbformat": 4,
  "nbformat_minor": 0,
  "metadata": {
    "colab": {
      "name": "Pie Sales Analysis And Regression",
      "provenance": [],
      "collapsed_sections": [
        "k09eEROB28WU"
      ],
      "authorship_tag": "ABX9TyOYchyFQfOBKPo6G5PX/kvM",
      "include_colab_link": true
    },
    "kernelspec": {
      "name": "python3",
      "display_name": "Python 3"
    }
  },
  "cells": [
    {
      "cell_type": "markdown",
      "metadata": {
        "id": "view-in-github",
        "colab_type": "text"
      },
      "source": [
        "<a href=\"https://colab.research.google.com/github/assulthoni/DTI-assignment/blob/main/Pie_Sales_Analysis_And_Regression.ipynb\" target=\"_parent\"><img src=\"https://colab.research.google.com/assets/colab-badge.svg\" alt=\"Open In Colab\"/></a>"
      ]
    },
    {
      "cell_type": "markdown",
      "metadata": {
        "id": "9c73eTpGucOT"
      },
      "source": [
        "# Pie Sales Analysis And Regression"
      ]
    },
    {
      "cell_type": "markdown",
      "metadata": {
        "id": "9FQTV2KVuk1N"
      },
      "source": [
        "## Description of Notebook\n",
        "\n",
        "This notebook done by Ahmad Shohibus Sulthoni (me) who are student at Telkom University. I made this notebook to fulfill weekly assigment of Digital Talent Incubator (DTI) Program which supported by Telkom Indonesia tbk.\n",
        "\n",
        "**List of Contents**\n",
        "\n",
        "\n",
        "1.   Research Question (What we want to solve?)\n",
        "2.   Methodology (How we solve that question?)\n",
        "3.   Exploratory Data Analysis (What insight that can we get from data?)\n",
        "4.   Modeling (How Machine Learning solve that problem?)\n",
        "5.   Evaluation (How model's performance?)\n",
        "6.   Inference (What's next that we can do?)\n",
        "\n"
      ]
    },
    {
      "cell_type": "markdown",
      "metadata": {
        "id": "qDKLeJfEwJWo"
      },
      "source": [
        "## Research Question\n",
        "\n"
      ]
    },
    {
      "cell_type": "markdown",
      "metadata": {
        "id": "ygQ3anJ5x0hL"
      },
      "source": [
        "**Description of data that used in this notebook**\n",
        "\n",
        "Data that used in this notebook come from sales domain. In this data contains how week sell, advertisement budget, pie price and pie sales. \n",
        "\n",
        "**Column**\n",
        "\n",
        "*   week (number) : n-th week of selling pie\n",
        "*   pie_sales (number) : total pie sold out in that week\n",
        "*   price (number) : price of each pie\n",
        "*   advertising (number) : budget of advertising\n",
        "\n",
        "**Problem**\n",
        "\n",
        "1.   The seller want to know how week, price and advertising incluence pie sales.\n",
        "2.   The seller want to make model using multi linear regression in order to implement Machine Learning for decision making"
      ]
    },
    {
      "cell_type": "markdown",
      "metadata": {
        "id": "jryDJnY_0iJk"
      },
      "source": [
        "## Methodology"
      ]
    },
    {
      "cell_type": "markdown",
      "metadata": {
        "id": "zmtRps_80np8"
      },
      "source": [
        "I use descriptive statistics to know how pie sales dependent on week, price and advertising. After that i use multi linear regression to make model. For the evaluation i use regression summary, some metrics such r2, t-value, confidence interval include in it.\n",
        "\n",
        "**Tools**\n",
        "\n",
        "\n",
        "*   Python Language Programming\n",
        "*   Google Colab Notebook\n",
        "*   Some python libraries (statsmodels, sklearn, pandas, matplotlib)\n",
        "\n"
      ]
    },
    {
      "cell_type": "markdown",
      "metadata": {
        "id": "93WSW3Ki2htF"
      },
      "source": [
        "### Library and Data Preparation"
      ]
    },
    {
      "cell_type": "code",
      "metadata": {
        "id": "fMI0BUJI1rgs"
      },
      "source": [
        "# import library for code\n",
        "import warnings\n",
        "\n",
        "warnings.filterwarnings('ignore') #ignore warnings for convenience\n",
        "import pandas as pd\n",
        "import numpy as np\n",
        "import statsmodels.api as sm\n",
        "import matplotlib.pyplot as plt\n",
        "import seaborn as sns\n",
        "from sklearn import linear_model\n",
        "from sklearn.metrics import mean_squared_error\n",
        "%matplotlib inline"
      ],
      "execution_count": 95,
      "outputs": []
    },
    {
      "cell_type": "code",
      "metadata": {
        "id": "MwAVgNpAwHRu",
        "outputId": "c0ad0bf2-4f6b-44a3-f0ed-a9536803bd93",
        "colab": {
          "base_uri": "https://localhost:8080/",
          "height": 206
        }
      },
      "source": [
        "DATA_URL = 'https://raw.githubusercontent.com/rc-dbe/dti/main/data/pie-sales.csv'\n",
        "\n",
        "df_pie_sales = pd.read_csv(DATA_URL, sep=';')\n",
        "df_pie_sales.sample(5)"
      ],
      "execution_count": 76,
      "outputs": [
        {
          "output_type": "execute_result",
          "data": {
            "text/html": [
              "<div>\n",
              "<style scoped>\n",
              "    .dataframe tbody tr th:only-of-type {\n",
              "        vertical-align: middle;\n",
              "    }\n",
              "\n",
              "    .dataframe tbody tr th {\n",
              "        vertical-align: top;\n",
              "    }\n",
              "\n",
              "    .dataframe thead th {\n",
              "        text-align: right;\n",
              "    }\n",
              "</style>\n",
              "<table border=\"1\" class=\"dataframe\">\n",
              "  <thead>\n",
              "    <tr style=\"text-align: right;\">\n",
              "      <th></th>\n",
              "      <th>week</th>\n",
              "      <th>pie_sales</th>\n",
              "      <th>price</th>\n",
              "      <th>advertising</th>\n",
              "    </tr>\n",
              "  </thead>\n",
              "  <tbody>\n",
              "    <tr>\n",
              "      <th>1</th>\n",
              "      <td>2</td>\n",
              "      <td>460</td>\n",
              "      <td>7.5</td>\n",
              "      <td>3.3</td>\n",
              "    </tr>\n",
              "    <tr>\n",
              "      <th>12</th>\n",
              "      <td>13</td>\n",
              "      <td>440</td>\n",
              "      <td>5.9</td>\n",
              "      <td>4.0</td>\n",
              "    </tr>\n",
              "    <tr>\n",
              "      <th>8</th>\n",
              "      <td>9</td>\n",
              "      <td>450</td>\n",
              "      <td>7.0</td>\n",
              "      <td>3.5</td>\n",
              "    </tr>\n",
              "    <tr>\n",
              "      <th>13</th>\n",
              "      <td>14</td>\n",
              "      <td>450</td>\n",
              "      <td>5.0</td>\n",
              "      <td>3.5</td>\n",
              "    </tr>\n",
              "    <tr>\n",
              "      <th>9</th>\n",
              "      <td>10</td>\n",
              "      <td>490</td>\n",
              "      <td>5.0</td>\n",
              "      <td>4.0</td>\n",
              "    </tr>\n",
              "  </tbody>\n",
              "</table>\n",
              "</div>"
            ],
            "text/plain": [
              "    week  pie_sales  price  advertising\n",
              "1      2        460    7.5          3.3\n",
              "12    13        440    5.9          4.0\n",
              "8      9        450    7.0          3.5\n",
              "13    14        450    5.0          3.5\n",
              "9     10        490    5.0          4.0"
            ]
          },
          "metadata": {
            "tags": []
          },
          "execution_count": 76
        }
      ]
    },
    {
      "cell_type": "markdown",
      "metadata": {
        "id": "eoTnIIiW22tH"
      },
      "source": [
        "## Exploratory Data Analysis"
      ]
    },
    {
      "cell_type": "markdown",
      "metadata": {
        "id": "EiGoo8Nm7wjK"
      },
      "source": [
        "### Correlation plot all columns"
      ]
    },
    {
      "cell_type": "code",
      "metadata": {
        "id": "UcUnofOn7K1t",
        "outputId": "a09528d1-382b-4450-94eb-639a5240fb6a",
        "colab": {
          "base_uri": "https://localhost:8080/",
          "height": 0
        }
      },
      "source": [
        "# all columns correlation plot\n",
        "corr = df_pie_sales.corr()\n",
        "\n",
        "# Draw the heatmap with the mask and correct aspect ratio\n",
        "sns.heatmap(corr)"
      ],
      "execution_count": 77,
      "outputs": [
        {
          "output_type": "execute_result",
          "data": {
            "text/plain": [
              "<matplotlib.axes._subplots.AxesSubplot at 0x7f9af27ed860>"
            ]
          },
          "metadata": {
            "tags": []
          },
          "execution_count": 77
        },
        {
          "output_type": "display_data",
          "data": {
            "image/png": "[encoded data removed]",
            "text/plain": [
              "<Figure size 432x288 with 2 Axes>"
            ]
          },
          "metadata": {
            "tags": [],
            "needs_background": "light"
          }
        }
      ]
    },
    {
      "cell_type": "markdown",
      "metadata": {
        "id": "6BZg2JCl6Xy-"
      },
      "source": [
        "### Sales Distribution"
      ]
    },
    {
      "cell_type": "code",
      "metadata": {
        "id": "-j8EGw0c6bzM",
        "outputId": "1a7f4bce-7568-41be-89f4-038ff10a24cb",
        "colab": {
          "base_uri": "https://localhost:8080/",
          "height": 0
        }
      },
      "source": [
        "# plot sales distribution\n",
        "df_pie_sales['pie_sales'].plot(kind='hist')"
      ],
      "execution_count": 78,
      "outputs": [
        {
          "output_type": "execute_result",
          "data": {
            "text/plain": [
              "<matplotlib.axes._subplots.AxesSubplot at 0x7f9af27edc88>"
            ]
          },
          "metadata": {
            "tags": []
          },
          "execution_count": 78
        },
        {
          "output_type": "display_data",
          "data": {
            "image/png": "[encoded data removed]",
            "text/plain": [
              "<Figure size 432x288 with 1 Axes>"
            ]
          },
          "metadata": {
            "tags": [],
            "needs_background": "light"
          }
        }
      ]
    },
    {
      "cell_type": "markdown",
      "metadata": {
        "id": "k09eEROB28WU"
      },
      "source": [
        "### Week - sales Analysis"
      ]
    },
    {
      "cell_type": "code",
      "metadata": {
        "id": "D_EYdV_RuRef",
        "outputId": "4cf8977e-1279-40f6-98f2-7187b52257af",
        "colab": {
          "base_uri": "https://localhost:8080/",
          "height": 0
        }
      },
      "source": [
        "# find correlation of week and sales\n",
        "corr = df_pie_sales['week'].corr(df_pie_sales['pie_sales'])\n",
        "print(f'correlation of week and pie is : {corr}')"
      ],
      "execution_count": 79,
      "outputs": [
        {
          "output_type": "stream",
          "text": [
            "correlation of week and pie is : -0.0678869266923971\n"
          ],
          "name": "stdout"
        }
      ]
    },
    {
      "cell_type": "code",
      "metadata": {
        "id": "ZYgvEupI3b00",
        "outputId": "1eecdcab-bdaf-4333-e9f8-aad377f35813",
        "colab": {
          "base_uri": "https://localhost:8080/",
          "height": 0
        }
      },
      "source": [
        "# plot graph between week and sales\n",
        "xs = df_pie_sales['week']\n",
        "ys = df_pie_sales['pie_sales']\n",
        "plt.figure(figsize=(15,10))\n",
        "plt.plot(xs,ys, 'o-')\n",
        "for x,y in zip(xs,ys):\n",
        "\n",
        "    label = \"{:}\".format(y)\n",
        "\n",
        "    plt.annotate(label, # this is the text\n",
        "                 (x,y), # this is the point to label\n",
        "                 textcoords=\"offset points\", # how to position the text\n",
        "                 xytext=(0,10), # distance from text to points (x,y)\n",
        "                 ha='center') # horizontal alignment can be left, right or center\n",
        "plt.title(\"Week - Sales Plot\")\n",
        "plt.xlabel(\"Week\")\n",
        "plt.ylabel(\"Sales\")"
      ],
      "execution_count": 80,
      "outputs": [
        {
          "output_type": "execute_result",
          "data": {
            "text/plain": [
              "Text(0, 0.5, 'Sales')"
            ]
          },
          "metadata": {
            "tags": []
          },
          "execution_count": 80
        },
        {
          "output_type": "display_data",
          "data": {
            "image/png": "[encoded data removed]",
            "text/plain": [
              "<Figure size 1080x720 with 1 Axes>"
            ]
          },
          "metadata": {
            "tags": [],
            "needs_background": "light"
          }
        }
      ]
    },
    {
      "cell_type": "markdown",
      "metadata": {
        "id": "Fsvn_AHj5HVG"
      },
      "source": [
        "### Price - sales Analysis\n"
      ]
    },
    {
      "cell_type": "code",
      "metadata": {
        "id": "bHgCzKBC5HVK",
        "outputId": "23c369b3-760c-4235-e9e8-aa329cbb4042",
        "colab": {
          "base_uri": "https://localhost:8080/",
          "height": 35
        }
      },
      "source": [
        "# find correlation of price and sales\n",
        "corr = df_pie_sales['price'].corr(df_pie_sales['pie_sales'])\n",
        "print(f'correlation of price and pie sales is : {corr}')"
      ],
      "execution_count": 81,
      "outputs": [
        {
          "output_type": "stream",
          "text": [
            "correlation of price and pie sales is : -0.4432731827387206\n"
          ],
          "name": "stdout"
        }
      ]
    },
    {
      "cell_type": "code",
      "metadata": {
        "id": "9z_Zdqpw5HVW",
        "outputId": "bd65269f-003d-487d-9154-780fafa12c1d",
        "colab": {
          "base_uri": "https://localhost:8080/",
          "height": 639
        }
      },
      "source": [
        "# plot graph between price and sales\n",
        "xs = df_pie_sales['price']\n",
        "ys = df_pie_sales['pie_sales']\n",
        "plt.figure(figsize=(15,10))\n",
        "plt.scatter(xs,ys)\n",
        "for x,y in zip(xs,ys):\n",
        "\n",
        "    label = \"{:}\".format(y)\n",
        "\n",
        "    plt.annotate(label, # this is the text\n",
        "                 (x,y), # this is the point to label\n",
        "                 textcoords=\"offset points\", # how to position the text\n",
        "                 xytext=(0,10), # distance from text to points (x,y)\n",
        "                 ha='center') # horizontal alignment can be left, right or center\n",
        "plt.title(\"price - Sales Plot\")\n",
        "plt.xlabel(\"price\")\n",
        "plt.ylabel(\"Sales\")"
      ],
      "execution_count": 82,
      "outputs": [
        {
          "output_type": "execute_result",
          "data": {
            "text/plain": [
              "Text(0, 0.5, 'Sales')"
            ]
          },
          "metadata": {
            "tags": []
          },
          "execution_count": 82
        },
        {
          "output_type": "display_data",
          "data": {
            "image/png": "[encoded data removed]",
            "text/plain": [
              "<Figure size 1080x720 with 1 Axes>"
            ]
          },
          "metadata": {
            "tags": [],
            "needs_background": "light"
          }
        }
      ]
    },
    {
      "cell_type": "markdown",
      "metadata": {
        "id": "RD_7uQBC5jHs"
      },
      "source": [
        "### advertising - sales Analysis"
      ]
    },
    {
      "cell_type": "code",
      "metadata": {
        "id": "9kiuwAzi5jHx",
        "outputId": "3312830f-e1dd-4119-d8f9-a08776cf1f52",
        "colab": {
          "base_uri": "https://localhost:8080/",
          "height": 35
        }
      },
      "source": [
        "# find correlation of advertising and sales\n",
        "corr = df_pie_sales['advertising'].corr(df_pie_sales['pie_sales'])\n",
        "print(f'correlation of advertising and pie sales is : {corr}')"
      ],
      "execution_count": 83,
      "outputs": [
        {
          "output_type": "stream",
          "text": [
            "correlation of advertising and pie sales is : 0.556319857168117\n"
          ],
          "name": "stdout"
        }
      ]
    },
    {
      "cell_type": "code",
      "metadata": {
        "id": "1SynC2l95jH8",
        "outputId": "ba438ca8-6d04-490f-a733-0e7ffe1ac35c",
        "colab": {
          "base_uri": "https://localhost:8080/",
          "height": 639
        }
      },
      "source": [
        "# plot graph between advertising and sales\n",
        "xs = df_pie_sales['advertising']\n",
        "ys = df_pie_sales['pie_sales']\n",
        "plt.figure(figsize=(15,10))\n",
        "plt.scatter(xs,ys)\n",
        "for x,y in zip(xs,ys):\n",
        "\n",
        "    label = \"{:}\".format(y)\n",
        "\n",
        "    plt.annotate(label, # this is the text\n",
        "                 (x,y), # this is the point to label\n",
        "                 textcoords=\"offset points\", # how to position the text\n",
        "                 xytext=(0,10), # distance from text to points (x,y)\n",
        "                 ha='center') # horizontal alignment can be left, right or center\n",
        "plt.title(\"advertising - Sales Plot\")\n",
        "plt.xlabel(\"advertising\")\n",
        "plt.ylabel(\"Sales\")"
      ],
      "execution_count": 84,
      "outputs": [
        {
          "output_type": "execute_result",
          "data": {
            "text/plain": [
              "Text(0, 0.5, 'Sales')"
            ]
          },
          "metadata": {
            "tags": []
          },
          "execution_count": 84
        },
        {
          "output_type": "display_data",
          "data": {
            "image/png": "[encoded data removed]",
            "text/plain": [
              "<Figure size 1080x720 with 1 Axes>"
            ]
          },
          "metadata": {
            "tags": [],
            "needs_background": "light"
          }
        }
      ]
    },
    {
      "cell_type": "markdown",
      "metadata": {
        "id": "dMnsyBKT54jk"
      },
      "source": [
        "### Conclusion of EDA\n",
        "\n",
        "*   Week has slightly negative correlation with Sales\n",
        "*   price has negative correlation with Sales\n",
        "*   advertising has positive correlation with sales \n",
        "*   sales has bimodal distribution\n",
        "\n"
      ]
    },
    {
      "cell_type": "markdown",
      "metadata": {
        "id": "-nNgsZlW71QU"
      },
      "source": [
        "## Modeling"
      ]
    },
    {
      "cell_type": "markdown",
      "metadata": {
        "id": "z1eqeSCC78HN"
      },
      "source": [
        "### Use Scikit-learn"
      ]
    },
    {
      "cell_type": "code",
      "metadata": {
        "id": "ubEY6FXj762H",
        "outputId": "f1a264df-fd8f-421d-eb7b-943dbd9f6dbc",
        "colab": {
          "base_uri": "https://localhost:8080/",
          "height": 395
        }
      },
      "source": [
        "X_variable = ['week', 'advertising', 'price']\n",
        "y_variable = ['pie_sales']\n",
        "X = df_pie_sales[X_variable]\n",
        "y = df_pie_sales[y_variable]\n",
        "display(X.head())\n",
        "display(y.head())"
      ],
      "execution_count": 85,
      "outputs": [
        {
          "output_type": "display_data",
          "data": {
            "text/html": [
              "<div>\n",
              "<style scoped>\n",
              "    .dataframe tbody tr th:only-of-type {\n",
              "        vertical-align: middle;\n",
              "    }\n",
              "\n",
              "    .dataframe tbody tr th {\n",
              "        vertical-align: top;\n",
              "    }\n",
              "\n",
              "    .dataframe thead th {\n",
              "        text-align: right;\n",
              "    }\n",
              "</style>\n",
              "<table border=\"1\" class=\"dataframe\">\n",
              "  <thead>\n",
              "    <tr style=\"text-align: right;\">\n",
              "      <th></th>\n",
              "      <th>week</th>\n",
              "      <th>advertising</th>\n",
              "      <th>price</th>\n",
              "    </tr>\n",
              "  </thead>\n",
              "  <tbody>\n",
              "    <tr>\n",
              "      <th>0</th>\n",
              "      <td>1</td>\n",
              "      <td>3.3</td>\n",
              "      <td>5.5</td>\n",
              "    </tr>\n",
              "    <tr>\n",
              "      <th>1</th>\n",
              "      <td>2</td>\n",
              "      <td>3.3</td>\n",
              "      <td>7.5</td>\n",
              "    </tr>\n",
              "    <tr>\n",
              "      <th>2</th>\n",
              "      <td>3</td>\n",
              "      <td>3.0</td>\n",
              "      <td>8.0</td>\n",
              "    </tr>\n",
              "    <tr>\n",
              "      <th>3</th>\n",
              "      <td>4</td>\n",
              "      <td>4.5</td>\n",
              "      <td>8.0</td>\n",
              "    </tr>\n",
              "    <tr>\n",
              "      <th>4</th>\n",
              "      <td>5</td>\n",
              "      <td>3.0</td>\n",
              "      <td>6.8</td>\n",
              "    </tr>\n",
              "  </tbody>\n",
              "</table>\n",
              "</div>"
            ],
            "text/plain": [
              "   week  advertising  price\n",
              "0     1          3.3    5.5\n",
              "1     2          3.3    7.5\n",
              "2     3          3.0    8.0\n",
              "3     4          4.5    8.0\n",
              "4     5          3.0    6.8"
            ]
          },
          "metadata": {
            "tags": []
          }
        },
        {
          "output_type": "display_data",
          "data": {
            "text/html": [
              "<div>\n",
              "<style scoped>\n",
              "    .dataframe tbody tr th:only-of-type {\n",
              "        vertical-align: middle;\n",
              "    }\n",
              "\n",
              "    .dataframe tbody tr th {\n",
              "        vertical-align: top;\n",
              "    }\n",
              "\n",
              "    .dataframe thead th {\n",
              "        text-align: right;\n",
              "    }\n",
              "</style>\n",
              "<table border=\"1\" class=\"dataframe\">\n",
              "  <thead>\n",
              "    <tr style=\"text-align: right;\">\n",
              "      <th></th>\n",
              "      <th>pie_sales</th>\n",
              "    </tr>\n",
              "  </thead>\n",
              "  <tbody>\n",
              "    <tr>\n",
              "      <th>0</th>\n",
              "      <td>350</td>\n",
              "    </tr>\n",
              "    <tr>\n",
              "      <th>1</th>\n",
              "      <td>460</td>\n",
              "    </tr>\n",
              "    <tr>\n",
              "      <th>2</th>\n",
              "      <td>350</td>\n",
              "    </tr>\n",
              "    <tr>\n",
              "      <th>3</th>\n",
              "      <td>430</td>\n",
              "    </tr>\n",
              "    <tr>\n",
              "      <th>4</th>\n",
              "      <td>350</td>\n",
              "    </tr>\n",
              "  </tbody>\n",
              "</table>\n",
              "</div>"
            ],
            "text/plain": [
              "   pie_sales\n",
              "0        350\n",
              "1        460\n",
              "2        350\n",
              "3        430\n",
              "4        350"
            ]
          },
          "metadata": {
            "tags": []
          }
        }
      ]
    },
    {
      "cell_type": "code",
      "metadata": {
        "id": "c1OS-oze8eR2",
        "outputId": "fc89e06d-9556-4949-b44e-320773e534b6",
        "colab": {
          "base_uri": "https://localhost:8080/",
          "height": 35
        }
      },
      "source": [
        "regressor = linear_model.LinearRegression()\n",
        "regressor.fit(X,y)"
      ],
      "execution_count": 86,
      "outputs": [
        {
          "output_type": "execute_result",
          "data": {
            "text/plain": [
              "LinearRegression(copy_X=True, fit_intercept=True, n_jobs=None, normalize=False)"
            ]
          },
          "metadata": {
            "tags": []
          },
          "execution_count": 86
        }
      ]
    },
    {
      "cell_type": "code",
      "metadata": {
        "id": "YEXwbagH8qST",
        "outputId": "501852d4-1285-4e0e-c1ae-204867e591b9",
        "colab": {
          "base_uri": "https://localhost:8080/",
          "height": 88
        }
      },
      "source": [
        "print('Intercept: \\n', regressor.intercept_)\n",
        "print('Coefficients: \\n', regressor.coef_)"
      ],
      "execution_count": 87,
      "outputs": [
        {
          "output_type": "stream",
          "text": [
            "Intercept: \n",
            " [339.79655586]\n",
            "Coefficients: \n",
            " [[ -2.25541919  73.46399119 -26.92659652]]\n"
          ],
          "name": "stdout"
        }
      ]
    },
    {
      "cell_type": "markdown",
      "metadata": {
        "id": "ZcuyY7q_AKLm"
      },
      "source": [
        "### Use stasmodels"
      ]
    },
    {
      "cell_type": "code",
      "metadata": {
        "id": "oVWHs6ah9Jr-"
      },
      "source": [
        "X_variable = ['week', 'advertising', 'price']\n",
        "y_variable = ['pie_sales']\n",
        "X = df_pie_sales[X_variable]\n",
        "y = df_pie_sales[y_variable]\n",
        "\n",
        "# add constant for intercept because \n",
        "# An intercept is not included by default and should be added by the user\n",
        "X_sm = sm.add_constant(X) "
      ],
      "execution_count": 88,
      "outputs": []
    },
    {
      "cell_type": "code",
      "metadata": {
        "id": "9cEG2rH7AtqL",
        "outputId": "b7ba3b19-1307-4294-e1f5-98885231eb44",
        "colab": {
          "base_uri": "https://localhost:8080/",
          "height": 106
        }
      },
      "source": [
        "regressor_sm = sm.OLS(y,X_sm)\n",
        "results = regressor_sm.fit()\n",
        "# intercept and coefficients of model\n",
        "display(results.params)"
      ],
      "execution_count": 89,
      "outputs": [
        {
          "output_type": "display_data",
          "data": {
            "text/plain": [
              "const          339.796556\n",
              "week            -2.255419\n",
              "advertising     73.463991\n",
              "price          -26.926597\n",
              "dtype: float64"
            ]
          },
          "metadata": {
            "tags": []
          }
        }
      ]
    },
    {
      "cell_type": "code",
      "metadata": {
        "id": "tjfUw-cyA89u",
        "outputId": "90483bd5-582a-4d2c-cd70-a35319ed8dc4",
        "colab": {
          "base_uri": "https://localhost:8080/",
          "height": 106
        }
      },
      "source": [
        "# t-value for each component\n",
        "display(results.tvalues)"
      ],
      "execution_count": 90,
      "outputs": [
        {
          "output_type": "display_data",
          "data": {
            "text/plain": [
              "const          2.734086\n",
              "week          -0.760104\n",
              "advertising    2.777346\n",
              "price         -2.378086\n",
              "dtype: float64"
            ]
          },
          "metadata": {
            "tags": []
          }
        }
      ]
    },
    {
      "cell_type": "markdown",
      "metadata": {
        "id": "nL40jxVPBHY1"
      },
      "source": [
        "### Hypothesis Formula"
      ]
    },
    {
      "cell_type": "markdown",
      "metadata": {
        "id": "Vr8b_5Au9r54"
      },
      "source": [
        "Because we have 3 independent variable, so we have 3 $\\beta$\n",
        "\n",
        "Then,\n",
        "Basic formula :\n",
        ">$y=\\beta_0 + \\beta_1 * x_1 + \\beta_2 * x_2 + \\beta_3 * x_3 + \\varepsilon$\n",
        "\n",
        "\n",
        "which $\\beta_0$ is intercept, $\\beta_1,\\beta_2,\\beta_3$ are coefficients and $\\varepsilon$ is random error.\n",
        "\n",
        "\n",
        "\n",
        "*   $x_1$ is week\n",
        "*   $x_2$ is advertising\n",
        "*   $x_3$ is price\n",
        "\n",
        "\n",
        "\n",
        "So we have\n",
        "\n",
        "Best fitted formula for Regression :\n",
        "\n",
        ">$y=339.79655586 + -2.25541919*x_1 + 73.46399119*x_2 + -26.92659652 * x_3 + \\varepsilon$"
      ]
    },
    {
      "cell_type": "markdown",
      "metadata": {
        "id": "aV4QqCuzCV2G"
      },
      "source": [
        "## Evaluation"
      ]
    },
    {
      "cell_type": "code",
      "metadata": {
        "id": "IGbqtafrBgmN",
        "outputId": "af994d61-764d-4cf5-ec83-b916ac732aa7",
        "colab": {
          "base_uri": "https://localhost:8080/",
          "height": 0
        }
      },
      "source": [
        "# summary of model\n",
        "display(results.summary())\n",
        "# predict seen data\n",
        "y_pred = regressor.predict(X)\n",
        "mse = mean_squared_error(y,y_pred)\n",
        "print(f'RMSE : {np.sqrt(mse)}')"
      ],
      "execution_count": 91,
      "outputs": [
        {
          "output_type": "display_data",
          "data": {
            "text/html": [
              "<table class=\"simpletable\">\n",
              "<caption>OLS Regression Results</caption>\n",
              "<tr>\n",
              "  <th>Dep. Variable:</th>        <td>pie_sales</td>    <th>  R-squared:         </th> <td>   0.545</td>\n",
              "</tr>\n",
              "<tr>\n",
              "  <th>Model:</th>                   <td>OLS</td>       <th>  Adj. R-squared:    </th> <td>   0.421</td>\n",
              "</tr>\n",
              "<tr>\n",
              "  <th>Method:</th>             <td>Least Squares</td>  <th>  F-statistic:       </th> <td>   4.398</td>\n",
              "</tr>\n",
              "<tr>\n",
              "  <th>Date:</th>             <td>Sat, 17 Oct 2020</td> <th>  Prob (F-statistic):</th>  <td>0.0290</td> \n",
              "</tr>\n",
              "<tr>\n",
              "  <th>Time:</th>                 <td>20:06:05</td>     <th>  Log-Likelihood:    </th> <td> -77.126</td>\n",
              "</tr>\n",
              "<tr>\n",
              "  <th>No. Observations:</th>      <td>    15</td>      <th>  AIC:               </th> <td>   162.3</td>\n",
              "</tr>\n",
              "<tr>\n",
              "  <th>Df Residuals:</th>          <td>    11</td>      <th>  BIC:               </th> <td>   165.1</td>\n",
              "</tr>\n",
              "<tr>\n",
              "  <th>Df Model:</th>              <td>     3</td>      <th>                     </th>     <td> </td>   \n",
              "</tr>\n",
              "<tr>\n",
              "  <th>Covariance Type:</th>      <td>nonrobust</td>    <th>                     </th>     <td> </td>   \n",
              "</tr>\n",
              "</table>\n",
              "<table class=\"simpletable\">\n",
              "<tr>\n",
              "       <td></td>          <th>coef</th>     <th>std err</th>      <th>t</th>      <th>P>|t|</th>  <th>[0.025</th>    <th>0.975]</th>  \n",
              "</tr>\n",
              "<tr>\n",
              "  <th>const</th>       <td>  339.7966</td> <td>  124.282</td> <td>    2.734</td> <td> 0.019</td> <td>   66.255</td> <td>  613.339</td>\n",
              "</tr>\n",
              "<tr>\n",
              "  <th>week</th>        <td>   -2.2554</td> <td>    2.967</td> <td>   -0.760</td> <td> 0.463</td> <td>   -8.786</td> <td>    4.275</td>\n",
              "</tr>\n",
              "<tr>\n",
              "  <th>advertising</th> <td>   73.4640</td> <td>   26.451</td> <td>    2.777</td> <td> 0.018</td> <td>   15.245</td> <td>  131.683</td>\n",
              "</tr>\n",
              "<tr>\n",
              "  <th>price</th>       <td>  -26.9266</td> <td>   11.323</td> <td>   -2.378</td> <td> 0.037</td> <td>  -51.848</td> <td>   -2.005</td>\n",
              "</tr>\n",
              "</table>\n",
              "<table class=\"simpletable\">\n",
              "<tr>\n",
              "  <th>Omnibus:</th>       <td> 0.393</td> <th>  Durbin-Watson:     </th> <td>   1.783</td>\n",
              "</tr>\n",
              "<tr>\n",
              "  <th>Prob(Omnibus):</th> <td> 0.821</td> <th>  Jarque-Bera (JB):  </th> <td>   0.168</td>\n",
              "</tr>\n",
              "<tr>\n",
              "  <th>Skew:</th>          <td> 0.232</td> <th>  Prob(JB):          </th> <td>   0.920</td>\n",
              "</tr>\n",
              "<tr>\n",
              "  <th>Kurtosis:</th>      <td> 2.768</td> <th>  Cond. No.          </th> <td>    116.</td>\n",
              "</tr>\n",
              "</table><br/><br/>Warnings:<br/>[1] Standard Errors assume that the covariance matrix of the errors is correctly specified."
            ],
            "text/plain": [
              "<class 'statsmodels.iolib.summary.Summary'>\n",
              "\"\"\"\n",
              "                            OLS Regression Results                            \n",
              "==============================================================================\n",
              "Dep. Variable:              pie_sales   R-squared:                       0.545\n",
              "Model:                            OLS   Adj. R-squared:                  0.421\n",
              "Method:                 Least Squares   F-statistic:                     4.398\n",
              "Date:                Sat, 17 Oct 2020   Prob (F-statistic):             0.0290\n",
              "Time:                        20:06:05   Log-Likelihood:                -77.126\n",
              "No. Observations:                  15   AIC:                             162.3\n",
              "Df Residuals:                      11   BIC:                             165.1\n",
              "Df Model:                           3                                         \n",
              "Covariance Type:            nonrobust                                         \n",
              "===============================================================================\n",
              "                  coef    std err          t      P>|t|      [0.025      0.975]\n",
              "-------------------------------------------------------------------------------\n",
              "const         339.7966    124.282      2.734      0.019      66.255     613.339\n",
              "week           -2.2554      2.967     -0.760      0.463      -8.786       4.275\n",
              "advertising    73.4640     26.451      2.777      0.018      15.245     131.683\n",
              "price         -26.9266     11.323     -2.378      0.037     -51.848      -2.005\n",
              "==============================================================================\n",
              "Omnibus:                        0.393   Durbin-Watson:                   1.783\n",
              "Prob(Omnibus):                  0.821   Jarque-Bera (JB):                0.168\n",
              "Skew:                           0.232   Prob(JB):                        0.920\n",
              "Kurtosis:                       2.768   Cond. No.                         116.\n",
              "==============================================================================\n",
              "\n",
              "Warnings:\n",
              "[1] Standard Errors assume that the covariance matrix of the errors is correctly specified.\n",
              "\"\"\""
            ]
          },
          "metadata": {
            "tags": []
          }
        },
        {
          "output_type": "stream",
          "text": [
            "RMSE : 41.37976937444013\n"
          ],
          "name": "stdout"
        }
      ]
    },
    {
      "cell_type": "markdown",
      "metadata": {
        "id": "cAI6M3-_CbLd"
      },
      "source": [
        "So we can know that :\n",
        "\n",
        "\n",
        "1.   Model is not really good because $r^2$ evaluation is 0.545 and RMSE around 41.379\n",
        "2.   Variance in independent variable is too much so model can't fitted well\n",
        "3.   Both scikit-learn and statsmodels return same coeff, so for linear regression we can use both of them\n",
        "\n"
      ]
    },
    {
      "cell_type": "markdown",
      "metadata": {
        "id": "CxGTV0PgE1EO"
      },
      "source": [
        "## Inference"
      ]
    },
    {
      "cell_type": "markdown",
      "metadata": {
        "id": "_IWC3_ulIP5-"
      },
      "source": [
        "I make basic inferencing of model. Please run cell below with your custom input. You can change any independent variable (X) at the right side. HAVE FUN!"
      ]
    },
    {
      "cell_type": "code",
      "metadata": {
        "id": "PEb9Fa64E5tW",
        "outputId": "d7cc6aa8-b688-43da-ad97-dfbf72aa12f5",
        "colab": {
          "base_uri": "https://localhost:8080/",
          "height": 116
        }
      },
      "source": [
        "#@title independent variable input\n",
        "week = 19 #@param {type:\"slider\", min:15, max:52, step:1}\n",
        "advertising =  3#@param {type:\"number\"}\n",
        "price = 10 #@param {type:\"number\"}\n",
        "print(\"Prediction will show below.\")\n",
        "ind_var = {\n",
        "    'week' : week,\n",
        "    'advertising' : advertising,\n",
        "    'price' : price\n",
        "   }\n",
        "X_inf = pd.DataFrame(data=ind_var, columns=X_variable, index=[0])\n",
        "y_inf = regressor.predict(X_inf)\n",
        "X_inf['pie sales'] = y_inf\n",
        "display(X_inf)\n",
        "print(f'Predictions of pie sales in this inferencing is {y_inf[0][0]}')\n",
        "#@markdown RUN THIS CELL AGAIN WITH OTHER CUSTOM INPUT"
      ],
      "execution_count": 94,
      "outputs": [
        {
          "output_type": "stream",
          "text": [
            "Prediction will show below.\n"
          ],
          "name": "stdout"
        },
        {
          "output_type": "display_data",
          "data": {
            "text/html": [
              "<div>\n",
              "<style scoped>\n",
              "    .dataframe tbody tr th:only-of-type {\n",
              "        vertical-align: middle;\n",
              "    }\n",
              "\n",
              "    .dataframe tbody tr th {\n",
              "        vertical-align: top;\n",
              "    }\n",
              "\n",
              "    .dataframe thead th {\n",
              "        text-align: right;\n",
              "    }\n",
              "</style>\n",
              "<table border=\"1\" class=\"dataframe\">\n",
              "  <thead>\n",
              "    <tr style=\"text-align: right;\">\n",
              "      <th></th>\n",
              "      <th>week</th>\n",
              "      <th>advertising</th>\n",
              "      <th>price</th>\n",
              "      <th>pie sales</th>\n",
              "    </tr>\n",
              "  </thead>\n",
              "  <tbody>\n",
              "    <tr>\n",
              "      <th>0</th>\n",
              "      <td>19</td>\n",
              "      <td>3</td>\n",
              "      <td>10</td>\n",
              "      <td>248.0696</td>\n",
              "    </tr>\n",
              "  </tbody>\n",
              "</table>\n",
              "</div>"
            ],
            "text/plain": [
              "   week  advertising  price  pie sales\n",
              "0    19            3     10   248.0696"
            ]
          },
          "metadata": {
            "tags": []
          }
        },
        {
          "output_type": "stream",
          "text": [
            "Predictions of pie sales in this inferencing is 248.06959960238686\n"
          ],
          "name": "stdout"
        }
      ]
    }
  ]
}